{
 "cells": [
  {
   "cell_type": "markdown",
   "metadata": {},
   "source": [
    "# Rename all BibTeX keys using JabRef"
   ]
  },
  {
   "cell_type": "markdown",
   "metadata": {},
   "source": [
    "* Use JabRef, open the bib file -> Quality -> Autogenerate BibTeX keys.\n",
    "* Commit the changes.\n",
    "* `git diff @~1 master > changes`\n",
    "* Use Sublime to get the dict below"
   ]
  },
  {
   "cell_type": "code",
   "execution_count": null,
   "metadata": {},
   "outputs": [],
   "source": [
    "#  Supercurrent orbitalfield\n",
    "replace = {\n",
    "    \"hofstadter_energy_1976\": \"Hofstadter1976\",\n",
    "    \"stanescu_majorana_2013\": \"Stanescu2013\",\n",
    "    \"deng_parity_2014\": \"Deng2014\",\n",
    "    \"groth_kwant:_2014\": \"Groth2014\",\n",
    "    \"adagideli_effects_2014\": \"Adagideli2014\",\n",
    "    \"stanescu_soft_2014\": \"Stanescu2014\",\n",
    "    \"pientka_enhanced_2012\": \"Pientka2012\",\n",
    "    \"potter_multichannel_2010\": \"Potter2010\",\n",
    "    \"beenakker_search_2013\": \"Beenakker2013\",\n",
    "    \"lim_emergence_2013\": \"Lim2013\",\n",
    "    \"liu_zero-bias_2012\": \"Liu2012\",\n",
    "    \"mourik_signatures_2012\": \"Mourik2012\",\n",
    "    \"lutchyn_majorana_2010\": \"Lutchyn2010\",\n",
    "    \"potter_topological_2012\": \"Potter2012\",\n",
    "    \"oreg_helical_2010\": \"Oreg2010\",\n",
    "    \"churchill_superconductor-nanowire_2013\": \"Churchill2013\",\n",
    "    \"tewari_topological_2012\": \"Tewari2012\",\n",
    "    \"alicea_new_2012\": \"Alicea2012\",\n",
    "    \"das_zero-bias_2012\": \"Das2012\",\n",
    "    \"deng_anomalous_2012\": \"Deng2012\",\n",
    "    \"diez_andreev_2012\": \"Diez2012\",\n",
    "    \"osca_majorana_2015\": \"Osca2015\",\n",
    "    \"altland_nonstandard_1997-1\": \"Altland1997\",\n",
    "    \"vuik\": \"Vuik2016\",\n",
    "    \"lim_magnetic-field_2012\": \"Lim2012\",\n",
    "    \"rex2014tilting\": \"Rex2014\",\n",
    "    \"Weperen2014\": \"Weperen2015\",\n",
    "}\n",
    "replace[r\"\\Pf\"] = r\"\\textrm{Pf}\"\n",
    "fname = 'chapter_orbitalfield/orbitalfield.tex'\n",
    "replace[\"{figures/\"] = \"{chapter_orbitalfield/figures/\" # XXX: CHANGE THIS!"
   ]
  },
  {
   "cell_type": "code",
   "execution_count": null,
   "metadata": {},
   "outputs": [],
   "source": [
    "#  Supercurrent\n",
    "replace = {\n",
    "    \"kitaev2001unpaired\": \"Kitaev2001\",\n",
    "    \"oreg2010helical\": \"Oreg2010\",\n",
    "    \"lutchyn2010majorana\": \"Lutchyn2010\",\n",
    "    \"mourik2012signatures\": \"Mourik2012\",\n",
    "    \"deng2016majorana\": \"Deng2016\",\n",
    "    \"albrecht2016exponential\": \"Albrecht2016\",\n",
    "    \"chen2016phasediagram\": \"Chen2017\",\n",
    "    \"molenkamp2016abs4pi\": \"Wiedenmann2015\",\n",
    "    \"bocquillon2016gapless\": \"Bocquillon2016\",\n",
    "    \"Deacon2016josephsonradiation\": \"Deacon2017\",\n",
    "    \"Hyart2013braiding\": \"Hyart2013\",\n",
    "    \"Aasen2016briading\": \"Aasen2016\",\n",
    "    \"Karzig2016braiding\": \"Karzig2017\",\n",
    "    \"plugge2016majorana\": \"Plugge2017\",\n",
    "    \"doh2005tunable\": \"Doh2005\",\n",
    "    \"spanton2017current\": \"Spanton2017\",\n",
    "    \"goffman2017conduction\": \"Goffman2017\",\n",
    "    \"vanDam2006supercurrent\": \"VanDam2006\",\n",
    "    \"szombati2015josephson\": \"Szombati2016\",\n",
    "    \"deLange2015hyrbidnanowire\": \"Lange2015\",\n",
    "    \"marcus2015hyrbidnanowire\": \"Larsen2015\",\n",
    "    \"giazaotto2015pbinas\": \"Paajaste2015\",\n",
    "    \"giazotto2016magnetically\": \"Tiira2017\",\n",
    "    \"gharavi2016nb\": \"Gharavi2017\",\n",
    "    \"bulaevskii1977superconducting\": \"Bulaevskii1977\",\n",
    "    \"buzdin1982critical\": \"Buzdin1982\",\n",
    "    \"demler1997superconducting\": \"Demler1997\",\n",
    "    \"nadj2012spectroscopy\": \"Nadj-Perge2012\",\n",
    "    \"shumeiko2008\": \"Michelsen2008\",\n",
    "    \"yokoyama2014anomalous\": \"Yokoyama2014\",\n",
    "    \"yokoyama2014magnetic\": \"Yokoyama2014a\",\n",
    "    \"vanweperen2015spinorbit\": \"Weperen2015\",\n",
    "    \"vanweperen2012quantized\": \"Weperen2012\",\n",
    "    \"kammhuber2016conductance\": \"Kammhuber2016\",\n",
    "    \"PhysRevB.91.245436\": \"Gharavi2015\",\n",
    "    \"san2014mapping\": \"San-Jose2014\",\n",
    "    \"Zhang2016ballisticmajoranadevice\": \"Zhang2016\",\n",
    "    \"hofstadter_energy_1976\": \"Hofstadter1976\",\n",
    "    \"beenakker1997random\": \"Beenakker1997\",\n",
    "    \"ostroukh2016two\": \"Ostroukh2016\",\n",
    "    \"groth_kwant\": \"Groth2014\",\n",
    "    \"kautz1990noise\": \"Kautz1990\",\n",
    "    \"vuik\": \"Vuik2016\",\n",
    "    \"nichelle2017scalingzbp\": \"Nichele2017\",\n",
    "    \"lee2017inas2deg\": \"Lee2017\",\n",
    "    \"cleuziou2006carbon\": \"Cleuziou2006\",\n",
    "    \"pekola2008hysteresis\": \"Courtois2008\",\n",
    "    \"Lehnert1999fractional\": \"Lehnert1999\",\n",
    "    \"Dubos2001fractional\": \"Dubos2001\",\n",
    "    \"dinsmore2008fractional\": \"DinsmoreIII2008\",\n",
    "    \"PhysRevLett.92.257005\": \"Sellier2004\",\n",
    "    \"PhysRevLett.97.067006\": \"Chauvin2006\",\n",
    "    \"PhysRevB.63.214512\": \"Radovifmmodecuteclseci2001\",\n",
    "    \"deng2014parity\": \"Deng2014\",\n",
    "    \"Harlingen2013ZBP\": \"Finck2013\",\n",
    "}\n",
    "\n",
    "fname = \"chapter_supercurrent/supercurrent.tex\"\n",
    "replace[\"{figures/\"] = \"{chapter_supercurrent/figures/\"  # XXX: CHANGE THIS!"
   ]
  },
  {
   "cell_type": "code",
   "execution_count": null,
   "metadata": {},
   "outputs": [],
   "source": [
    "#  Supercurrent suppl\n",
    "replace = {\n",
    "    \"kitaev2001unpaired\": \"Kitaev2001\",\n",
    "    \"oreg2010helical\": \"Oreg2010\",\n",
    "    \"lutchyn2010majorana\": \"Lutchyn2010\",\n",
    "    \"mourik2012signatures\": \"Mourik2012\",\n",
    "    \"deng2016majorana\": \"Deng2016\",\n",
    "    \"albrecht2016exponential\": \"Albrecht2016\",\n",
    "    \"chen2016phasediagram\": \"Chen2016\",\n",
    "    \"molenkamp2016abs4pi\": \"Wiedenmann2015\",\n",
    "    \"bocquillon2016gapless\": \"Bocquillon2016\",\n",
    "    \"Deacon2016josephsonradiation\": \"Deacon2017\",\n",
    "    \"Hyart2013braiding\": \"Hyart2013\",\n",
    "    \"Aasen2016briading\": \"Aasen2016\",\n",
    "    \"Karzig2016braiding\": \"Karzig2017\",\n",
    "    \"plugge2016majorana\": \"Plugge2017\",\n",
    "    \"doh2005tunable\": \"Doh2005\",\n",
    "    \"vanDam2006supercurrent\": \"VanDam2006\",\n",
    "    \"szombati2015josephson\": \"Szombati2016\",\n",
    "    \"deLange2015hyrbidnanowire\": \"Lange2015\",\n",
    "    \"marcus2015hyrbidnanowire\": \"Larsen2015\",\n",
    "    \"giazaotto2015pbinas\": \"Paajaste2015\",\n",
    "    \"giazotto2016magnetically\": \"Tiira2017\",\n",
    "    \"gharavi2016nb\": \"Gharavi2017\",\n",
    "    \"bulaevskii1977superconducting\": \"Bulaevskii1977\",\n",
    "    \"buzdin1982critical\": \"Buzdin1982\",\n",
    "    \"demler1997superconducting\": \"Demler1997\",\n",
    "    \"nadj2012spectroscopy\": \"Nadj-Perge2012\",\n",
    "    \"shumeiko2008\": \"Michelsen2008\",\n",
    "    \"yokoyama2014anomalous\": \"Yokoyama2014\",\n",
    "    \"yokoyama2014magnetic\": \"Yokoyama2014a\",\n",
    "    \"vanweperen2015spinorbit\": \"Weperen2015\",\n",
    "    \"vanweperen2012quantized\": \"Weperen2012\",\n",
    "    \"kammhuber2016conductance\": \"Kammhuber2016\",\n",
    "    \"san2014mapping\": \"San-Jose2014\",\n",
    "    \"Zhang2016ballisticmajoranadevice\": \"Zhang2016\",\n",
    "    \"hofstadter_energy_1976\": \"Hofstadter1976\",\n",
    "    \"beenakker1997random\": \"Beenakker1997\",\n",
    "    \"ostroukh2016two\": \"Ostroukh2016\",\n",
    "    \"groth_kwant\": \"Groth2014\",\n",
    "    \"kautz1990noise\": \"Kautz1990\",\n",
    "    \"vuik\": \"Vuik2016\",\n",
    "    \"nichelle2017scalingzbp\": \"Nichele2017\",\n",
    "    \"lee2017inas2deg\": \"Lee2017\",\n",
    "    \"cleuziou2006carbon\": \"Cleuziou2006\",\n",
    "    \"pekola2008hysteresis\": \"Courtois2008\",\n",
    "    \"Lehnert1999fractional\": \"Lehnert1999\",\n",
    "    \"Dubos2001fractional\": \"Dubos2001\",\n",
    "    \"dinsmore2008fractional\": \"DinsmoreIII2008\",\n",
    "    \"PhysRevLett.92.257005\": \"Sellier2004\",\n",
    "    \"PhysRevB.63.214512\": \"Radovifmmodecuteclseci2001\",\n",
    "    \"deng2012ZBP\": \"Deng2012\",\n",
    "    \"deng2014parity\": \"Deng2014\",\n",
    "    \"Harlingen2013ZBP\": \"Finck2013\",\n",
    "    \"PhysRevLett.97.067006\": \"Chauvin2006\",\n",
    "}\n",
    "\n",
    "fname = \"chapter_supercurrent/supp.tex\"\n",
    "replace[\"{figures/\"] = \"{chapter_supercurrent/figures/\"  # XXX: CHANGE THIS!"
   ]
  },
  {
   "cell_type": "code",
   "execution_count": null,
   "metadata": {},
   "outputs": [],
   "source": [
    "with open(fname, 'r') as f:\n",
    "    text = f.readlines()"
   ]
  },
  {
   "cell_type": "code",
   "execution_count": null,
   "metadata": {},
   "outputs": [],
   "source": [
    "replace['onlinecite{'] = 'cite{'\n",
    "replace['bm{'] = 'mathbf{'"
   ]
  },
  {
   "cell_type": "code",
   "execution_count": null,
   "metadata": {},
   "outputs": [],
   "source": [
    "text = ''.join(text)"
   ]
  },
  {
   "cell_type": "code",
   "execution_count": null,
   "metadata": {
    "scrolled": false
   },
   "outputs": [],
   "source": [
    "for old, new in replace.items():\n",
    "    text = text.replace(old, new)\n",
    "\n",
    "print(text)"
   ]
  },
  {
   "cell_type": "markdown",
   "metadata": {},
   "source": [
    "# bibtex to yaml"
   ]
  },
  {
   "cell_type": "code",
   "execution_count": null,
   "metadata": {},
   "outputs": [],
   "source": [
    "import requests\n",
    "\n",
    "def doi2bib(doi):\n",
    "    \"\"\"Return a bibTeX string of metadata for a given DOI.\"\"\"\n",
    "    url = \"http://dx.doi.org/\" + doi\n",
    "    headers = {\"accept\": \"application/x-bibtex\"}\n",
    "    r = requests.get(url, headers=headers)\n",
    "    return r.text"
   ]
  },
  {
   "cell_type": "code",
   "execution_count": null,
   "metadata": {},
   "outputs": [],
   "source": [
    "doi2bib('10.1103/physrevlett.115.127002')"
   ]
  },
  {
   "cell_type": "markdown",
   "metadata": {},
   "source": [
    "## Create the yaml files and `not_on_crossref.bib` files"
   ]
  },
  {
   "cell_type": "code",
   "execution_count": null,
   "metadata": {},
   "outputs": [],
   "source": [
    "import os\n",
    "import glob\n",
    "\n",
    "bibs = [f for f in glob.glob('*/*bib') if 'not_on_crossref' not in f]\n",
    "bibs"
   ]
  },
  {
   "cell_type": "markdown",
   "metadata": {},
   "source": [
    "Go over the above bib files and fix the DOI problems and then create the `yaml`"
   ]
  },
  {
   "cell_type": "code",
   "execution_count": null,
   "metadata": {},
   "outputs": [],
   "source": [
    "fname = 'chapter_shortjunction/shortjunction.bib'\n",
    "\n",
    "folder, name = os.path.split(fname)\n",
    "new = os.path.join(folder, \"tmp.yaml\")\n",
    "yamls.append(new)\n",
    "cmd = f\"pandoc-citeproc --bib2yaml {fname} > {new}\"\n",
    "print(cmd)\n",
    "os.system(cmd)"
   ]
  },
  {
   "cell_type": "code",
   "execution_count": null,
   "metadata": {},
   "outputs": [],
   "source": [
    "import yaml\n",
    "\n",
    "with open(new, 'r') as f:\n",
    "    try:\n",
    "        bibs = yaml.safe_load(f)\n",
    "    except yaml.YAMLError as exc:\n",
    "        print(exc)"
   ]
  },
  {
   "cell_type": "code",
   "execution_count": null,
   "metadata": {},
   "outputs": [],
   "source": [
    "start = '@article{'\n",
    "entries = {}\n",
    "for d in bibs['references']:\n",
    "    key = d['id']\n",
    "    doi = d.get('DOI')\n",
    "    if doi is None:\n",
    "        bib = None\n",
    "        by_hand = True\n",
    "    else:\n",
    "        bib = doi2bib(doi)\n",
    "        if not bib.startswith(start):\n",
    "            bib = \"MANUALLY_ADD\"\n",
    "            by_hand = True\n",
    "        else:\n",
    "            by_hand = False\n",
    "    entries[key] = dict(doi=doi, bib=bib, by_hand=by_hand)"
   ]
  },
  {
   "cell_type": "code",
   "execution_count": null,
   "metadata": {},
   "outputs": [],
   "source": [
    "for k, d in entries.items():\n",
    "    if d['bib'] == \"MANUALLY_ADD\":\n",
    "        print(k)"
   ]
  },
  {
   "cell_type": "code",
   "execution_count": null,
   "metadata": {},
   "outputs": [],
   "source": [
    "for k, d in entries.items():\n",
    "    if d['bib'] is None:\n",
    "        print(k)"
   ]
  },
  {
   "cell_type": "markdown",
   "metadata": {},
   "source": [
    "Try to fix the above entries with the correct DOI"
   ]
  },
  {
   "cell_type": "code",
   "execution_count": null,
   "metadata": {},
   "outputs": [],
   "source": [
    "from toolz.dicttoolz import dissoc\n",
    "\n",
    "with open(fname[:-3] + \"yaml\", 'w') as f:\n",
    "    data = {k: dissoc(v, \"bib\") for k, v in entries.items()}\n",
    "    yaml.dump(data, f)"
   ]
  },
  {
   "cell_type": "markdown",
   "metadata": {},
   "source": [
    "## Go from yamls to bib files"
   ]
  },
  {
   "cell_type": "markdown",
   "metadata": {},
   "source": [
    "### Check for double entries and fix them! "
   ]
  },
  {
   "cell_type": "code",
   "execution_count": null,
   "metadata": {},
   "outputs": [],
   "source": [
    "import os\n",
    "import glob\n",
    "\n",
    "bibs = [f for f in glob.glob('*/*yaml') if 'tmp.yaml' not in f]\n",
    "bibs"
   ]
  },
  {
   "cell_type": "code",
   "execution_count": null,
   "metadata": {},
   "outputs": [],
   "source": [
    "import yaml\n",
    "mapping = {}\n",
    "for fname in bibs:\n",
    "    with open(fname) as f:\n",
    "        mapping[fname] = yaml.safe_load(f)"
   ]
  },
  {
   "cell_type": "code",
   "execution_count": null,
   "metadata": {},
   "outputs": [],
   "source": [
    "from collections import defaultdict\n",
    "items = defaultdict(list)\n",
    "for fname, info in mapping.items():\n",
    "    for k, v in info.items():\n",
    "        if v is not None:\n",
    "            v = tuple(v.items())\n",
    "        items[k].append(v)"
   ]
  },
  {
   "cell_type": "code",
   "execution_count": null,
   "metadata": {},
   "outputs": [],
   "source": [
    "for k, v in items.items():\n",
    "    if len(set(v)) >= 2:\n",
    "        print(k, v)\n",
    "        print()"
   ]
  },
  {
   "cell_type": "markdown",
   "metadata": {},
   "source": [
    "When there are no more entries above here, go to the next step"
   ]
  },
  {
   "cell_type": "markdown",
   "metadata": {},
   "source": [
    "## Combine everything into one yaml"
   ]
  },
  {
   "cell_type": "code",
   "execution_count": null,
   "metadata": {},
   "outputs": [],
   "source": [
    "# see create_bib_file.py"
   ]
  }
 ],
 "metadata": {
  "kernelspec": {
   "display_name": "Python 3",
   "language": "python",
   "name": "python3"
  },
  "language_info": {
   "codemirror_mode": {
    "name": "ipython",
    "version": 3
   },
   "file_extension": ".py",
   "mimetype": "text/x-python",
   "name": "python",
   "nbconvert_exporter": "python",
   "pygments_lexer": "ipython3",
   "version": "3.7.3"
  }
 },
 "nbformat": 4,
 "nbformat_minor": 2
}
